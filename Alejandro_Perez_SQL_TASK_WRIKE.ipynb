{
 "cells": [
  {
   "cell_type": "markdown",
   "metadata": {},
   "source": [
    "# Alejandro Rodriguez Perez SQL Task 1"
   ]
  },
  {
   "cell_type": "code",
   "execution_count": 10,
   "metadata": {},
   "outputs": [],
   "source": [
    "import sqlite3\n",
    "import datetime\n",
    "import pandas as pd\n"
   ]
  },
  {
   "cell_type": "code",
   "execution_count": 14,
   "metadata": {},
   "outputs": [
    {
     "name": "stdout",
     "output_type": "stream",
     "text": [
      "DB already setup\n"
     ]
    }
   ],
   "source": [
    "# Creating DB\n",
    "\n",
    "conn = sqlite3.connect(\"TestDBTask_1.db\")\n",
    "c = conn.cursor()\n",
    "\n",
    "try:\n",
    "\n",
    "    # Create table - ACCOUNTS\n",
    "    c.execute(\n",
    "        \"\"\"CREATE TABLE ACCOUNTS\n",
    "                 ([account_id] INTEGER PRIMARY KEY,[company_name] text, [country] text)\"\"\"\n",
    "    )\n",
    "\n",
    "    # Create table - COUNTRY\n",
    "    c.execute(\n",
    "        \"\"\"CREATE TABLE USERS\n",
    "                 ([user_id] INTEGER PRIMARY KEY,[account_ID] integer, [startpoint] timestamp, [endpoint] timestamp)\"\"\"\n",
    "    )\n",
    "\n",
    "    conn.commit()\n",
    "\n",
    "    # POPULATING TABLE ACCOUNTS\n",
    "    accounts = pd.DataFrame(\n",
    "        {\n",
    "            \"account_id\": [23, 34, 54, 64, 65],\n",
    "            \"company_name\": [\"sb\", \"msft\", \"pltr\", \"nio\", \"btc\"],\n",
    "            \"country\": [\"ES\", \"US\", \"AZ\", \"ME\", \"SK\"],\n",
    "        }\n",
    "    )\n",
    "    accounts.to_sql(\"ACCOUNTS\", conn, if_exists=\"append\", index=False)\n",
    "\n",
    "    # POPULATING TABLE USERS\n",
    "    users = pd.DataFrame(\n",
    "        {\n",
    "            \"user_id\": [1, 2, 3, 4, 5, 6, 7, 8, 9, 10, 11],\n",
    "            \"account_id\": [23, 34, 54, 64, 65, 54, 54, 54, 54, 54, 54],\n",
    "            \"startpoint\": [\n",
    "                datetime.datetime(2020, 5, 17),\n",
    "                datetime.datetime(2020, 6, 17),\n",
    "                datetime.datetime(2020, 7, 17),\n",
    "                datetime.datetime(2020, 8, 17),\n",
    "                datetime.datetime(2020, 9, 17),\n",
    "                datetime.datetime(2020, 7, 17),\n",
    "                datetime.datetime(2020, 8, 17),\n",
    "                datetime.datetime(2020, 9, 17),\n",
    "                datetime.datetime(2020, 7, 17),\n",
    "                datetime.datetime(2020, 8, 17),\n",
    "                datetime.datetime(2020, 9, 17),\n",
    "            ],\n",
    "            \"endpoint\": [\n",
    "                datetime.datetime(2021, 1, 1),\n",
    "                datetime.datetime(2021, 1, 17),\n",
    "                datetime.datetime(2021, 2, 17),\n",
    "                datetime.datetime(2021, 4, 17),\n",
    "                datetime.datetime(2021, 4, 26),\n",
    "                datetime.datetime(2021, 4, 26),\n",
    "                datetime.datetime(2021, 4, 26),\n",
    "                datetime.datetime(2021, 4, 26),\n",
    "                datetime.datetime(2021, 4, 26),\n",
    "                datetime.datetime(2021, 4, 26),\n",
    "                datetime.datetime(2021, 4, 26),\n",
    "            ],\n",
    "        }\n",
    "    )\n",
    "    users.to_sql(\"USERS\", conn, if_exists=\"append\", index=False)\n",
    "except:\n",
    "    print(\"DB already setup\")"
   ]
  },
  {
   "cell_type": "markdown",
   "metadata": {},
   "source": [
    "## Please show 1) the list of all company names, which currently have alive users 2) the total number of such users per account"
   ]
  },
  {
   "cell_type": "code",
   "execution_count": 15,
   "metadata": {},
   "outputs": [
    {
     "data": {
      "text/html": [
       "<div>\n",
       "<style scoped>\n",
       "    .dataframe tbody tr th:only-of-type {\n",
       "        vertical-align: middle;\n",
       "    }\n",
       "\n",
       "    .dataframe tbody tr th {\n",
       "        vertical-align: top;\n",
       "    }\n",
       "\n",
       "    .dataframe thead th {\n",
       "        text-align: right;\n",
       "    }\n",
       "</style>\n",
       "<table border=\"1\" class=\"dataframe\">\n",
       "  <thead>\n",
       "    <tr style=\"text-align: right;\">\n",
       "      <th></th>\n",
       "      <th>Company Name</th>\n",
       "      <th>Number of Active Users</th>\n",
       "    </tr>\n",
       "  </thead>\n",
       "  <tbody>\n",
       "    <tr>\n",
       "      <th>0</th>\n",
       "      <td>btc</td>\n",
       "      <td>1</td>\n",
       "    </tr>\n",
       "    <tr>\n",
       "      <th>1</th>\n",
       "      <td>nio</td>\n",
       "      <td>1</td>\n",
       "    </tr>\n",
       "    <tr>\n",
       "      <th>2</th>\n",
       "      <td>pltr</td>\n",
       "      <td>6</td>\n",
       "    </tr>\n",
       "  </tbody>\n",
       "</table>\n",
       "</div>"
      ],
      "text/plain": [
       "  Company Name  Number of Active Users\n",
       "0          btc                       1\n",
       "1          nio                       1\n",
       "2         pltr                       6"
      ]
     },
     "execution_count": 15,
     "metadata": {},
     "output_type": "execute_result"
    }
   ],
   "source": [
    "c.execute(\n",
    "    \"\"\"\n",
    "    \n",
    "        SELECT  \n",
    "            accounts.company_name\n",
    "            ,COUNT(users.user_id)\n",
    "        FROM \n",
    "            ACCOUNTS as accounts\n",
    "        INNER JOIN\n",
    "            USERS as users\n",
    "        ON\n",
    "           accounts.account_id = users.account_id\n",
    "        WHERE\n",
    "            users.endpoint > date('now')\n",
    "        GROUP BY\n",
    "            1\n",
    "            \n",
    "    \"\"\"\n",
    ")\n",
    "pd.DataFrame(c.fetchall(), columns=[\"Company Name\", \"Number of Active Users\"])"
   ]
  },
  {
   "cell_type": "markdown",
   "metadata": {},
   "source": [
    "## From the results of the previous task, please output the companies with more than 5 users and with countries that start with letter “a”"
   ]
  },
  {
   "cell_type": "code",
   "execution_count": 16,
   "metadata": {},
   "outputs": [
    {
     "data": {
      "text/html": [
       "<div>\n",
       "<style scoped>\n",
       "    .dataframe tbody tr th:only-of-type {\n",
       "        vertical-align: middle;\n",
       "    }\n",
       "\n",
       "    .dataframe tbody tr th {\n",
       "        vertical-align: top;\n",
       "    }\n",
       "\n",
       "    .dataframe thead th {\n",
       "        text-align: right;\n",
       "    }\n",
       "</style>\n",
       "<table border=\"1\" class=\"dataframe\">\n",
       "  <thead>\n",
       "    <tr style=\"text-align: right;\">\n",
       "      <th></th>\n",
       "      <th>Company Name</th>\n",
       "      <th>Number of Active Users</th>\n",
       "    </tr>\n",
       "  </thead>\n",
       "  <tbody>\n",
       "    <tr>\n",
       "      <th>0</th>\n",
       "      <td>pltr</td>\n",
       "      <td>6</td>\n",
       "    </tr>\n",
       "  </tbody>\n",
       "</table>\n",
       "</div>"
      ],
      "text/plain": [
       "  Company Name  Number of Active Users\n",
       "0         pltr                       6"
      ]
     },
     "execution_count": 16,
     "metadata": {},
     "output_type": "execute_result"
    }
   ],
   "source": [
    "c.execute(\n",
    "    \"\"\"\n",
    "    \n",
    "        SELECT  \n",
    "            accounts.company_name AS \"Company Name\"\n",
    "            ,COUNT(users.user_id) AS \"Number of Active Users\"\n",
    "        FROM \n",
    "            ACCOUNTS as accounts\n",
    "        INNER JOIN\n",
    "            USERS as users\n",
    "        ON\n",
    "           accounts.account_id = users.account_id\n",
    "        WHERE\n",
    "            users.endpoint > date('now')\n",
    "            AND LOWER(accounts.country) LIKE 'a%'\n",
    "        GROUP BY\n",
    "            \"Company Name\"\n",
    "        HAVING\n",
    "            \"Number of Active Users\" > 5\n",
    "            \n",
    "    \"\"\"\n",
    ")\n",
    "pd.DataFrame(c.fetchall(), columns=[\"Company Name\", \"Number of Active Users\"])"
   ]
  },
  {
   "cell_type": "code",
   "execution_count": null,
   "metadata": {},
   "outputs": [],
   "source": []
  }
 ],
 "metadata": {
  "kernelspec": {
   "display_name": "Python 3",
   "language": "python",
   "name": "python3"
  },
  "language_info": {
   "codemirror_mode": {
    "name": "ipython",
    "version": 3
   },
   "file_extension": ".py",
   "mimetype": "text/x-python",
   "name": "python",
   "nbconvert_exporter": "python",
   "pygments_lexer": "ipython3",
   "version": "3.8.2"
  }
 },
 "nbformat": 4,
 "nbformat_minor": 4
}
